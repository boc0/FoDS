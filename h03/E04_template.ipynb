{
 "cells": [
  {
   "cell_type": "markdown",
   "metadata": {},
   "source": [
    "# Regression functions"
   ]
  },
  {
   "cell_type": "code",
   "execution_count": 1,
   "metadata": {},
   "outputs": [],
   "source": [
    "# These functions can be used to fit the models.\n",
    "# You can change anything you want and you can use or add your own functions.\n",
    "\n",
    "import numpy as np\n",
    "import pandas as pd\n",
    "import matplotlib.pyplot as plt\n",
    "\n",
    "def poly_basis_transform(X,k):\n",
    "    \"\"\"\n",
    "    X: one dimensional input array\n",
    "    k: order of polynomial\n",
    "    \n",
    "    returns\n",
    "    PHI: data matrix with polynomial features\n",
    "    \"\"\"\n",
    "    X = np.array(X)\n",
    "    m = X.size\n",
    "    PHI = np.ones((m,k+1))\n",
    "    for i in range(k+1):\n",
    "        PHI[:,i] = np.power(X,i)\n",
    "    return PHI\n",
    "\n",
    "\n",
    "def mse(PHI,y,w):\n",
    "    \"\"\"\n",
    "    PHI: augmented feature matrix\n",
    "    y:   output vector\n",
    "    w:   weight vector\n",
    "    \n",
    "    returns mean squared error\n",
    "    \"\"\"\n",
    "    m = PHI.shape[0]\n",
    "    return 1/(2*m) * np.linalg.norm(PHI.dot(w) - y)**2\n",
    "\n",
    "\n",
    "def linear_eval(PHI,w):\n",
    "    \"\"\"\n",
    "    PHI: augmented feature matrix\n",
    "    w:   weight vector\n",
    "    \n",
    "    returns: array of linear hypothesis evaluations h(x) for all examples x in PHI\n",
    "    \"\"\"\n",
    "    return PHI.dot(w)\n",
    "\n",
    "\n",
    "def linear_regression_fit(PHI,y,n_iter,eta,lamb=0,w_init=None):\n",
    "    \"\"\"\n",
    "    PHI:    augmented feature matrix\n",
    "    y:      output vector\n",
    "    n_iter: number of gradient descent iterations\n",
    "    eta:    learning rate\n",
    "    lamb:   regularization parameter\n",
    "    w_init: initial weights\n",
    "    \n",
    "    returns\n",
    "    w:    fitted weight vector\n",
    "    loss: list of MSE values for each iteration\n",
    "    \"\"\"\n",
    "    (m,k) = PHI.shape\n",
    "    \n",
    "    if w_init is None:\n",
    "        w_init = 0.1*np.random.randn(k)\n",
    "    \n",
    "    w = w_init\n",
    "    loss = [mse(PHI,y,w)] # first entry of loss is MSE with respect to initial weights\n",
    "    \n",
    "    for i in range(n_iter):\n",
    "        w0 = w.copy()\n",
    "        w0[0] = 0     # exclude bias from regularization\n",
    "        grad = 1/m * (PHI.T.dot(PHI.dot(w) - y) + lamb*w0)\n",
    "        w = w - eta*grad\n",
    "        loss.append(mse(PHI,y,w))\n",
    "        \n",
    "    return w,loss"
   ]
  },
  {
   "cell_type": "markdown",
   "metadata": {},
   "source": [
    "# Exercise 4.1"
   ]
  },
  {
   "cell_type": "code",
   "execution_count": null,
   "metadata": {},
   "outputs": [],
   "source": []
  },
  {
   "cell_type": "markdown",
   "metadata": {},
   "source": [
    "# Exercise 4.2"
   ]
  },
  {
   "cell_type": "code",
   "execution_count": null,
   "metadata": {},
   "outputs": [],
   "source": []
  },
  {
   "cell_type": "markdown",
   "metadata": {},
   "source": [
    "# Exercise 4.3"
   ]
  },
  {
   "cell_type": "code",
   "execution_count": null,
   "metadata": {},
   "outputs": [],
   "source": []
  }
 ],
 "metadata": {
  "kernelspec": {
   "display_name": "Python 3",
   "language": "python",
   "name": "python3"
  },
  "language_info": {
   "codemirror_mode": {
    "name": "ipython",
    "version": 3
   },
   "file_extension": ".py",
   "mimetype": "text/x-python",
   "name": "python",
   "nbconvert_exporter": "python",
   "pygments_lexer": "ipython3",
   "version": "3.8.3"
  }
 },
 "nbformat": 4,
 "nbformat_minor": 2
}
